{
  "nbformat": 4,
  "nbformat_minor": 0,
  "metadata": {
    "colab": {
      "provenance": []
    },
    "kernelspec": {
      "name": "python3",
      "display_name": "Python 3"
    },
    "language_info": {
      "name": "python"
    },
    "widgets": {
      "application/vnd.jupyter.widget-state+json": {
        "d4975d70a2a14707bd86bd36e827cbd9": {
          "model_module": "@jupyter-widgets/controls",
          "model_name": "HBoxModel",
          "model_module_version": "1.5.0",
          "state": {
            "_dom_classes": [],
            "_model_module": "@jupyter-widgets/controls",
            "_model_module_version": "1.5.0",
            "_model_name": "HBoxModel",
            "_view_count": null,
            "_view_module": "@jupyter-widgets/controls",
            "_view_module_version": "1.5.0",
            "_view_name": "HBoxView",
            "box_style": "",
            "children": [
              "IPY_MODEL_e3a4d146a2f94de7bb002b7b841c0198",
              "IPY_MODEL_1dfc965ff26d41f5a51c74f4ff4b9701",
              "IPY_MODEL_e70b9ba0d6a1419e8b7bf8ebb5346fd6"
            ],
            "layout": "IPY_MODEL_f029e74aecef453e991e058c02e66696"
          }
        },
        "e3a4d146a2f94de7bb002b7b841c0198": {
          "model_module": "@jupyter-widgets/controls",
          "model_name": "HTMLModel",
          "model_module_version": "1.5.0",
          "state": {
            "_dom_classes": [],
            "_model_module": "@jupyter-widgets/controls",
            "_model_module_version": "1.5.0",
            "_model_name": "HTMLModel",
            "_view_count": null,
            "_view_module": "@jupyter-widgets/controls",
            "_view_module_version": "1.5.0",
            "_view_name": "HTMLView",
            "description": "",
            "description_tooltip": null,
            "layout": "IPY_MODEL_d9561833f0b743d0b1c4d0774d4b3f87",
            "placeholder": "​",
            "style": "IPY_MODEL_2fbb3eca137f447abaa02fb4dec5fc4f",
            "value": "README.md: "
          }
        },
        "1dfc965ff26d41f5a51c74f4ff4b9701": {
          "model_module": "@jupyter-widgets/controls",
          "model_name": "FloatProgressModel",
          "model_module_version": "1.5.0",
          "state": {
            "_dom_classes": [],
            "_model_module": "@jupyter-widgets/controls",
            "_model_module_version": "1.5.0",
            "_model_name": "FloatProgressModel",
            "_view_count": null,
            "_view_module": "@jupyter-widgets/controls",
            "_view_module_version": "1.5.0",
            "_view_name": "ProgressView",
            "bar_style": "success",
            "description": "",
            "description_tooltip": null,
            "layout": "IPY_MODEL_70c35cc2bfbc4ba984b475aa4e73d212",
            "max": 1,
            "min": 0,
            "orientation": "horizontal",
            "style": "IPY_MODEL_79bf4179db284ef5aeca3b383234c0fe",
            "value": 1
          }
        },
        "e70b9ba0d6a1419e8b7bf8ebb5346fd6": {
          "model_module": "@jupyter-widgets/controls",
          "model_name": "HTMLModel",
          "model_module_version": "1.5.0",
          "state": {
            "_dom_classes": [],
            "_model_module": "@jupyter-widgets/controls",
            "_model_module_version": "1.5.0",
            "_model_name": "HTMLModel",
            "_view_count": null,
            "_view_module": "@jupyter-widgets/controls",
            "_view_module_version": "1.5.0",
            "_view_name": "HTMLView",
            "description": "",
            "description_tooltip": null,
            "layout": "IPY_MODEL_c38a16c05e2642f1aae8a6cb1c582575",
            "placeholder": "​",
            "style": "IPY_MODEL_39b07370508b40ae905a650ca7ca10ba",
            "value": " 4.01k/? [00:00&lt;00:00, 168kB/s]"
          }
        },
        "f029e74aecef453e991e058c02e66696": {
          "model_module": "@jupyter-widgets/base",
          "model_name": "LayoutModel",
          "model_module_version": "1.2.0",
          "state": {
            "_model_module": "@jupyter-widgets/base",
            "_model_module_version": "1.2.0",
            "_model_name": "LayoutModel",
            "_view_count": null,
            "_view_module": "@jupyter-widgets/base",
            "_view_module_version": "1.2.0",
            "_view_name": "LayoutView",
            "align_content": null,
            "align_items": null,
            "align_self": null,
            "border": null,
            "bottom": null,
            "display": null,
            "flex": null,
            "flex_flow": null,
            "grid_area": null,
            "grid_auto_columns": null,
            "grid_auto_flow": null,
            "grid_auto_rows": null,
            "grid_column": null,
            "grid_gap": null,
            "grid_row": null,
            "grid_template_areas": null,
            "grid_template_columns": null,
            "grid_template_rows": null,
            "height": null,
            "justify_content": null,
            "justify_items": null,
            "left": null,
            "margin": null,
            "max_height": null,
            "max_width": null,
            "min_height": null,
            "min_width": null,
            "object_fit": null,
            "object_position": null,
            "order": null,
            "overflow": null,
            "overflow_x": null,
            "overflow_y": null,
            "padding": null,
            "right": null,
            "top": null,
            "visibility": null,
            "width": null
          }
        },
        "d9561833f0b743d0b1c4d0774d4b3f87": {
          "model_module": "@jupyter-widgets/base",
          "model_name": "LayoutModel",
          "model_module_version": "1.2.0",
          "state": {
            "_model_module": "@jupyter-widgets/base",
            "_model_module_version": "1.2.0",
            "_model_name": "LayoutModel",
            "_view_count": null,
            "_view_module": "@jupyter-widgets/base",
            "_view_module_version": "1.2.0",
            "_view_name": "LayoutView",
            "align_content": null,
            "align_items": null,
            "align_self": null,
            "border": null,
            "bottom": null,
            "display": null,
            "flex": null,
            "flex_flow": null,
            "grid_area": null,
            "grid_auto_columns": null,
            "grid_auto_flow": null,
            "grid_auto_rows": null,
            "grid_column": null,
            "grid_gap": null,
            "grid_row": null,
            "grid_template_areas": null,
            "grid_template_columns": null,
            "grid_template_rows": null,
            "height": null,
            "justify_content": null,
            "justify_items": null,
            "left": null,
            "margin": null,
            "max_height": null,
            "max_width": null,
            "min_height": null,
            "min_width": null,
            "object_fit": null,
            "object_position": null,
            "order": null,
            "overflow": null,
            "overflow_x": null,
            "overflow_y": null,
            "padding": null,
            "right": null,
            "top": null,
            "visibility": null,
            "width": null
          }
        },
        "2fbb3eca137f447abaa02fb4dec5fc4f": {
          "model_module": "@jupyter-widgets/controls",
          "model_name": "DescriptionStyleModel",
          "model_module_version": "1.5.0",
          "state": {
            "_model_module": "@jupyter-widgets/controls",
            "_model_module_version": "1.5.0",
            "_model_name": "DescriptionStyleModel",
            "_view_count": null,
            "_view_module": "@jupyter-widgets/base",
            "_view_module_version": "1.2.0",
            "_view_name": "StyleView",
            "description_width": ""
          }
        },
        "70c35cc2bfbc4ba984b475aa4e73d212": {
          "model_module": "@jupyter-widgets/base",
          "model_name": "LayoutModel",
          "model_module_version": "1.2.0",
          "state": {
            "_model_module": "@jupyter-widgets/base",
            "_model_module_version": "1.2.0",
            "_model_name": "LayoutModel",
            "_view_count": null,
            "_view_module": "@jupyter-widgets/base",
            "_view_module_version": "1.2.0",
            "_view_name": "LayoutView",
            "align_content": null,
            "align_items": null,
            "align_self": null,
            "border": null,
            "bottom": null,
            "display": null,
            "flex": null,
            "flex_flow": null,
            "grid_area": null,
            "grid_auto_columns": null,
            "grid_auto_flow": null,
            "grid_auto_rows": null,
            "grid_column": null,
            "grid_gap": null,
            "grid_row": null,
            "grid_template_areas": null,
            "grid_template_columns": null,
            "grid_template_rows": null,
            "height": null,
            "justify_content": null,
            "justify_items": null,
            "left": null,
            "margin": null,
            "max_height": null,
            "max_width": null,
            "min_height": null,
            "min_width": null,
            "object_fit": null,
            "object_position": null,
            "order": null,
            "overflow": null,
            "overflow_x": null,
            "overflow_y": null,
            "padding": null,
            "right": null,
            "top": null,
            "visibility": null,
            "width": "20px"
          }
        },
        "79bf4179db284ef5aeca3b383234c0fe": {
          "model_module": "@jupyter-widgets/controls",
          "model_name": "ProgressStyleModel",
          "model_module_version": "1.5.0",
          "state": {
            "_model_module": "@jupyter-widgets/controls",
            "_model_module_version": "1.5.0",
            "_model_name": "ProgressStyleModel",
            "_view_count": null,
            "_view_module": "@jupyter-widgets/base",
            "_view_module_version": "1.2.0",
            "_view_name": "StyleView",
            "bar_color": null,
            "description_width": ""
          }
        },
        "c38a16c05e2642f1aae8a6cb1c582575": {
          "model_module": "@jupyter-widgets/base",
          "model_name": "LayoutModel",
          "model_module_version": "1.2.0",
          "state": {
            "_model_module": "@jupyter-widgets/base",
            "_model_module_version": "1.2.0",
            "_model_name": "LayoutModel",
            "_view_count": null,
            "_view_module": "@jupyter-widgets/base",
            "_view_module_version": "1.2.0",
            "_view_name": "LayoutView",
            "align_content": null,
            "align_items": null,
            "align_self": null,
            "border": null,
            "bottom": null,
            "display": null,
            "flex": null,
            "flex_flow": null,
            "grid_area": null,
            "grid_auto_columns": null,
            "grid_auto_flow": null,
            "grid_auto_rows": null,
            "grid_column": null,
            "grid_gap": null,
            "grid_row": null,
            "grid_template_areas": null,
            "grid_template_columns": null,
            "grid_template_rows": null,
            "height": null,
            "justify_content": null,
            "justify_items": null,
            "left": null,
            "margin": null,
            "max_height": null,
            "max_width": null,
            "min_height": null,
            "min_width": null,
            "object_fit": null,
            "object_position": null,
            "order": null,
            "overflow": null,
            "overflow_x": null,
            "overflow_y": null,
            "padding": null,
            "right": null,
            "top": null,
            "visibility": null,
            "width": null
          }
        },
        "39b07370508b40ae905a650ca7ca10ba": {
          "model_module": "@jupyter-widgets/controls",
          "model_name": "DescriptionStyleModel",
          "model_module_version": "1.5.0",
          "state": {
            "_model_module": "@jupyter-widgets/controls",
            "_model_module_version": "1.5.0",
            "_model_name": "DescriptionStyleModel",
            "_view_count": null,
            "_view_module": "@jupyter-widgets/base",
            "_view_module_version": "1.2.0",
            "_view_name": "StyleView",
            "description_width": ""
          }
        }
      }
    }
  },
  "cells": [
    {
      "cell_type": "code",
      "source": [],
      "metadata": {
        "id": "vh0tIRyKgwaU"
      },
      "execution_count": null,
      "outputs": []
    },
    {
      "cell_type": "code",
      "execution_count": 2,
      "metadata": {
        "id": "od-04l6Adx7G",
        "colab": {
          "base_uri": "https://localhost:8080/",
          "height": 176,
          "referenced_widgets": [
            "d4975d70a2a14707bd86bd36e827cbd9",
            "e3a4d146a2f94de7bb002b7b841c0198",
            "1dfc965ff26d41f5a51c74f4ff4b9701",
            "e70b9ba0d6a1419e8b7bf8ebb5346fd6",
            "f029e74aecef453e991e058c02e66696",
            "d9561833f0b743d0b1c4d0774d4b3f87",
            "2fbb3eca137f447abaa02fb4dec5fc4f",
            "70c35cc2bfbc4ba984b475aa4e73d212",
            "79bf4179db284ef5aeca3b383234c0fe",
            "c38a16c05e2642f1aae8a6cb1c582575",
            "39b07370508b40ae905a650ca7ca10ba"
          ]
        },
        "outputId": "8b21bed9-1fca-4026-b297-c042e0685dfe"
      },
      "outputs": [
        {
          "output_type": "stream",
          "name": "stderr",
          "text": [
            "/usr/local/lib/python3.11/dist-packages/huggingface_hub/utils/_auth.py:94: UserWarning: \n",
            "The secret `HF_TOKEN` does not exist in your Colab secrets.\n",
            "To authenticate with the Hugging Face Hub, create a token in your settings tab (https://huggingface.co/settings/tokens), set it as secret in your Google Colab and restart your session.\n",
            "You will be able to reuse this secret in all of your notebooks.\n",
            "Please note that authentication is recommended but still optional to access public models or datasets.\n",
            "  warnings.warn(\n"
          ]
        },
        {
          "output_type": "display_data",
          "data": {
            "text/plain": [
              "README.md: 0.00B [00:00, ?B/s]"
            ],
            "application/vnd.jupyter.widget-view+json": {
              "version_major": 2,
              "version_minor": 0,
              "model_id": "d4975d70a2a14707bd86bd36e827cbd9"
            }
          },
          "metadata": {}
        }
      ],
      "source": [
        "from datasets import load_dataset\n",
        "\n",
        "dataset = load_dataset(\"ai4bharat/IndicCorpV2\", name=\"indiccorp_v2\", split=\"tel_Telu\",streaming=True)"
      ]
    },
    {
      "cell_type": "code",
      "source": [
        "for i in dataset:\n",
        "  print(i)\n",
        "  break"
      ],
      "metadata": {
        "colab": {
          "base_uri": "https://localhost:8080/"
        },
        "id": "5rnTrZSWiMOu",
        "outputId": "dd44b325-a2f0-44c9-ad92-c3e979ac44b3"
      },
      "execution_count": null,
      "outputs": [
        {
          "output_type": "stream",
          "name": "stdout",
          "text": [
            "{'text': 'అమెరికా అధ్యక్షుడు డొనాల్డ్ ట్రంప్ కు రాష్ట్రపతి  భవన్ వద్ద ఘనస్వాగతం లభించింది. ఆయనకు రాష్ట్రపతి రామ్ నాథ్ కోవింద్ దంపతులు, ప్రధాని మోదీ సాదరంగా ఆహ్వానం పలకడంతో పాటు సైనికులు గౌరవ వందనాన్ని అందించారు.'}\n"
          ]
        }
      ]
    },
    {
      "cell_type": "code",
      "source": [
        "count = 0\n",
        "for i in dataset:\n",
        "    if i['text'].strip():  # check for non-empty text\n",
        "        print(i)\n",
        "        count += 1\n",
        "        if count == 2:\n",
        "            break\n"
      ],
      "metadata": {
        "colab": {
          "base_uri": "https://localhost:8080/"
        },
        "id": "rt619_ya3_t6",
        "outputId": "939219cc-d047-4dce-835a-4a2cc9e88333"
      },
      "execution_count": null,
      "outputs": [
        {
          "output_type": "stream",
          "name": "stdout",
          "text": [
            "{'text': 'అమెరికా అధ్యక్షుడు డొనాల్డ్ ట్రంప్ కు రాష్ట్రపతి  భవన్ వద్ద ఘనస్వాగతం లభించింది. ఆయనకు రాష్ట్రపతి రామ్ నాథ్ కోవింద్ దంపతులు, ప్రధాని మోదీ సాదరంగా ఆహ్వానం పలకడంతో పాటు సైనికులు గౌరవ వందనాన్ని అందించారు.'}\n",
            "{'text': 'ఇటు తెలంగాణలో కరోనా వైరస్ కారణంగా అన్ని దేవాలయాల్లో ముందస్తు చర్యలు చేపట్టారు. భద్రాద్రి రాముడికి కరోనా ఎఫెక్ట్ తగిలింది. ఏప్రిల్ 2న భద్రాద్రిలో జరగనున్న శ్రీరామ నవమి వేడుకలను వెంటాడుతోంది కరోనా. రాష్ట్రంలో కొనసాగుతున్న కరోనా అలర్ట్ నేపథ్యంలో భక్తులు లేకుండానే శ్రీరామనవమి జరుపుతామని మంత్రి పువ్వాడ అజయ్\\u200c పేర్కొన్నారు. ప్రత్యేక మీడియా సమావేశం ఏర్పాటు చేసిన మంత్రి పువ్వాడ ఈ మేరకు స్పష్టం చేశారు. శ్రీ రాములవారి కల్యాణం టికెట్లు రద్దు చేస్తున్నామని ప్రకటించారు.. టికెట్\\u200c డబ్బు తిరిగి ఆలయ అధికారులు చెల్లిస్తారన్నారు. కరోనాపై ప్రజలు భయభ్రాంతులకు గురికావొదని, మరింత అప్రమత్తంగా ఉండాలని ఉండాలని సూచించారు.'}\n"
          ]
        }
      ]
    },
    {
      "cell_type": "code",
      "source": [
        "num=1\n",
        "for i in dataset:\n",
        "  print(i)\n",
        "  num=num+1\n",
        "  if(num==5):\n",
        "    break"
      ],
      "metadata": {
        "colab": {
          "base_uri": "https://localhost:8080/"
        },
        "id": "XsBjqxbPqUA4",
        "outputId": "94f5db19-c345-4909-ca4f-d6325db76a00"
      },
      "execution_count": null,
      "outputs": [
        {
          "output_type": "stream",
          "name": "stdout",
          "text": [
            "{'text': 'అమెరికా అధ్యక్షుడు డొనాల్డ్ ట్రంప్ కు రాష్ట్రపతి  భవన్ వద్ద ఘనస్వాగతం లభించింది. ఆయనకు రాష్ట్రపతి రామ్ నాథ్ కోవింద్ దంపతులు, ప్రధాని మోదీ సాదరంగా ఆహ్వానం పలకడంతో పాటు సైనికులు గౌరవ వందనాన్ని అందించారు.'}\n",
            "{'text': ''}\n",
            "{'text': 'ఇటు తెలంగాణలో కరోనా వైరస్ కారణంగా అన్ని దేవాలయాల్లో ముందస్తు చర్యలు చేపట్టారు. భద్రాద్రి రాముడికి కరోనా ఎఫెక్ట్ తగిలింది. ఏప్రిల్ 2న భద్రాద్రిలో జరగనున్న శ్రీరామ నవమి వేడుకలను వెంటాడుతోంది కరోనా. రాష్ట్రంలో కొనసాగుతున్న కరోనా అలర్ట్ నేపథ్యంలో భక్తులు లేకుండానే శ్రీరామనవమి జరుపుతామని మంత్రి పువ్వాడ అజయ్\\u200c పేర్కొన్నారు. ప్రత్యేక మీడియా సమావేశం ఏర్పాటు చేసిన మంత్రి పువ్వాడ ఈ మేరకు స్పష్టం చేశారు. శ్రీ రాములవారి కల్యాణం టికెట్లు రద్దు చేస్తున్నామని ప్రకటించారు.. టికెట్\\u200c డబ్బు తిరిగి ఆలయ అధికారులు చెల్లిస్తారన్నారు. కరోనాపై ప్రజలు భయభ్రాంతులకు గురికావొదని, మరింత అప్రమత్తంగా ఉండాలని ఉండాలని సూచించారు.'}\n",
            "{'text': ''}\n"
          ]
        }
      ]
    },
    {
      "cell_type": "code",
      "source": [
        "import re\n",
        "\n",
        "# Telugu Unicode range: \\u0C00 to \\u0C7F\n",
        "pattern = re.compile(\n",
        "    r'(?<=[.!?])\\s+'\n",
        ")\n",
        "\n",
        "num=1\n",
        "\n",
        "for i in dataset:\n",
        "  if i['text'].strip():\n",
        "    num+=1\n",
        "    print(i['text'])\n",
        "    print('\\n')\n",
        "    telugu_words = pattern.split(i['text'])\n",
        "    joined_text = '\\n'.join(telugu_words)\n",
        "  if(num==5):\n",
        "    break\n",
        "\n",
        "print(telugu_words)\n",
        "no_of_sentences=len(telugu_words)"
      ],
      "metadata": {
        "colab": {
          "base_uri": "https://localhost:8080/"
        },
        "id": "cNBfdXB9eb6-",
        "outputId": "818bad2f-5d5f-44c7-8e91-423ef3a233c6"
      },
      "execution_count": 22,
      "outputs": [
        {
          "output_type": "stream",
          "name": "stdout",
          "text": [
            "అమెరికా అధ్యక్షుడు డొనాల్డ్ ట్రంప్ కు రాష్ట్రపతి  భవన్ వద్ద ఘనస్వాగతం లభించింది. ఆయనకు రాష్ట్రపతి రామ్ నాథ్ కోవింద్ దంపతులు, ప్రధాని మోదీ సాదరంగా ఆహ్వానం పలకడంతో పాటు సైనికులు గౌరవ వందనాన్ని అందించారు.\n",
            "\n",
            "\n",
            "ఇటు తెలంగాణలో కరోనా వైరస్ కారణంగా అన్ని దేవాలయాల్లో ముందస్తు చర్యలు చేపట్టారు. భద్రాద్రి రాముడికి కరోనా ఎఫెక్ట్ తగిలింది. ఏప్రిల్ 2న భద్రాద్రిలో జరగనున్న శ్రీరామ నవమి వేడుకలను వెంటాడుతోంది కరోనా. రాష్ట్రంలో కొనసాగుతున్న కరోనా అలర్ట్ నేపథ్యంలో భక్తులు లేకుండానే శ్రీరామనవమి జరుపుతామని మంత్రి పువ్వాడ అజయ్‌ పేర్కొన్నారు. ప్రత్యేక మీడియా సమావేశం ఏర్పాటు చేసిన మంత్రి పువ్వాడ ఈ మేరకు స్పష్టం చేశారు. శ్రీ రాములవారి కల్యాణం టికెట్లు రద్దు చేస్తున్నామని ప్రకటించారు.. టికెట్‌ డబ్బు తిరిగి ఆలయ అధికారులు చెల్లిస్తారన్నారు. కరోనాపై ప్రజలు భయభ్రాంతులకు గురికావొదని, మరింత అప్రమత్తంగా ఉండాలని ఉండాలని సూచించారు.\n",
            "\n",
            "\n",
            "అమెరికా సహా చాలా కొన్ని దేశాలను అభివృద్ది చెందిన దేశాలుగా, భారత్‌, చైనాలతో పాటు మరికొన్ని దేశాలను అభివృద్ది చెందుతున్న దేశాలుగా ఆఫ్రికా దేశాలను వెనుకబడిన దేశాలకు పేర్కొంటున్నారు.\n",
            "\n",
            "\n",
            "మనలో చాలా మంది విద్యుత్ పొదుపు చేయాలి అని విన్నాను. ఎందుకు? అందంగా చాలా సంస్కరణలు. కొన్ని నమ్మకం శక్తి సేవ్ లేకపోతే, దీన్ని చెయ్యవచ్చు చౌక కాదు. ఎవరైనా అది కూడా విద్యుత్ మూలం ఆదా చెప్పారు. కానీ ఎవరూ అది శక్తి సేవ్ అవసరం ఎందుకు అనే ప్రశ్న పై చాలా ప్రత్యేకంగా చెప్పగలను. , సాధారణ హక్కుకు మరియు ఆ మరియు ఇతరులు. ఇంధన వనరుల పొదుపు ప్రయోజనం కోసం విద్యుత్ సేవ్ మొదటి విషయం. అలాగే, పని తొలగించబడుతుంది పవర్ స్టేషన్ చాలా హానికరమైన వాయువులు ఉంది. ఈ సేకరించిన పదార్థాలు హానికరం ప్రజలకు కానీ కూడా పర్యావరణం కోసం మాత్రమే కాదు.\n",
            "\n",
            "\n",
            "['మనలో చాలా మంది విద్యుత్ పొదుపు చేయాలి అని విన్నాను.', 'ఎందుకు?', 'అందంగా చాలా సంస్కరణలు.', 'కొన్ని నమ్మకం శక్తి సేవ్ లేకపోతే, దీన్ని చెయ్యవచ్చు చౌక కాదు.', 'ఎవరైనా అది కూడా విద్యుత్ మూలం ఆదా చెప్పారు.', 'కానీ ఎవరూ అది శక్తి సేవ్ అవసరం ఎందుకు అనే ప్రశ్న పై చాలా ప్రత్యేకంగా చెప్పగలను.', ', సాధారణ హక్కుకు మరియు ఆ మరియు ఇతరులు.', 'ఇంధన వనరుల పొదుపు ప్రయోజనం కోసం విద్యుత్ సేవ్ మొదటి విషయం.', 'అలాగే, పని తొలగించబడుతుంది పవర్ స్టేషన్ చాలా హానికరమైన వాయువులు ఉంది.', 'ఈ సేకరించిన పదార్థాలు హానికరం ప్రజలకు కానీ కూడా పర్యావరణం కోసం మాత్రమే కాదు.', 'అమెరికా అధ్యక్షుడు డొనాల్డ్ ట్రంప్ కు రాష్ట్రపతి  భవన్ వద్ద ఘనస్వాగతం లభించింది.', 'ఆయనకు రాష్ట్రపతి రామ్ నాథ్ కోవింద్ దంపతులు, ప్రధాని మోదీ సాదరంగా ఆహ్వానం పలకడంతో పాటు సైనికులు గౌరవ వందనాన్ని అందించారు.', 'ఇటు తెలంగాణలో కరోనా వైరస్ కారణంగా అన్ని దేవాలయాల్లో ముందస్తు చర్యలు చేపట్టారు.', 'భద్రాద్రి రాముడికి కరోనా ఎఫెక్ట్ తగిలింది.', 'ఏప్రిల్ 2న భద్రాద్రిలో జరగనున్న శ్రీరామ నవమి వేడుకలను వెంటాడుతోంది కరోనా.', 'రాష్ట్రంలో కొనసాగుతున్న కరోనా అలర్ట్ నేపథ్యంలో భక్తులు లేకుండానే శ్రీరామనవమి జరుపుతామని మంత్రి పువ్వాడ అజయ్\\u200c పేర్కొన్నారు.', 'ప్రత్యేక మీడియా సమావేశం ఏర్పాటు చేసిన మంత్రి పువ్వాడ ఈ మేరకు స్పష్టం చేశారు.', 'శ్రీ రాములవారి కల్యాణం టికెట్లు రద్దు చేస్తున్నామని ప్రకటించారు..', 'టికెట్\\u200c డబ్బు తిరిగి ఆలయ అధికారులు చెల్లిస్తారన్నారు.', 'కరోనాపై ప్రజలు భయభ్రాంతులకు గురికావొదని, మరింత అప్రమత్తంగా ఉండాలని ఉండాలని సూచించారు.', 'అమెరికా సహా చాలా కొన్ని దేశాలను అభివృద్ది చెందిన దేశాలుగా, భారత్\\u200c, చైనాలతో పాటు మరికొన్ని దేశాలను అభివృద్ది చెందుతున్న దేశాలుగా ఆఫ్రికా దేశాలను వెనుకబడిన దేశాలకు పేర్కొంటున్నారు.', 'మనలో చాలా మంది విద్యుత్ పొదుపు చేయాలి అని విన్నాను.', 'ఎందుకు?', 'అందంగా చాలా సంస్కరణలు.', 'కొన్ని నమ్మకం శక్తి సేవ్ లేకపోతే, దీన్ని చెయ్యవచ్చు చౌక కాదు.', 'ఎవరైనా అది కూడా విద్యుత్ మూలం ఆదా చెప్పారు.', 'కానీ ఎవరూ అది శక్తి సేవ్ అవసరం ఎందుకు అనే ప్రశ్న పై చాలా ప్రత్యేకంగా చెప్పగలను.', ', సాధారణ హక్కుకు మరియు ఆ మరియు ఇతరులు.', 'ఇంధన వనరుల పొదుపు ప్రయోజనం కోసం విద్యుత్ సేవ్ మొదటి విషయం.', 'అలాగే, పని తొలగించబడుతుంది పవర్ స్టేషన్ చాలా హానికరమైన వాయువులు ఉంది.', 'ఈ సేకరించిన పదార్థాలు హానికరం ప్రజలకు కానీ కూడా పర్యావరణం కోసం మాత్రమే కాదు.']\n"
          ]
        }
      ]
    },
    {
      "cell_type": "code",
      "source": [
        "import re\n",
        "\n",
        "pattern = re.compile(\n",
        "    r'https?://\\S+|'                     # URLs\n",
        "    r'\\b[\\w\\.-]+@[\\w\\.-]+\\.\\w{2,4}\\b|'   # email addresses\n",
        "    r'\\d{1,2}[/-]\\d{1,2}[/-]\\d{2,4}|'    # dates like 12-05-2020\n",
        "    r'\\d+\\.\\d+|\\d+|'                     # numbers including decimals\n",
        "    r'[\\u0C00-\\u0C7F]+|'                 # Telugu words\n",
        "    r'[^\\s\\w\\u0C00-\\u0C7F]'              # punctuation\n",
        ")\n",
        "\n",
        "num=1\n",
        "\n",
        "for i in dataset:\n",
        "  if i['text'].strip():\n",
        "    num+=1\n",
        "    print(i['text'])\n",
        "    print('\\n')\n",
        "    telugu_words += pattern.findall(i['text'])\n",
        "  if(num==5):\n",
        "    break\n",
        "\n",
        "print(telugu_words)\n",
        "unique_tokens = len(set(telugu_words))\n",
        "no_of_words=len(telugu_words)"
      ],
      "metadata": {
        "colab": {
          "base_uri": "https://localhost:8080/"
        },
        "id": "9SmIK97b4lXW",
        "outputId": "dc1a6135-8fa2-44b2-ac0b-8dd9ea47d68b"
      },
      "execution_count": 28,
      "outputs": [
        {
          "output_type": "stream",
          "name": "stdout",
          "text": [
            "అమెరికా అధ్యక్షుడు డొనాల్డ్ ట్రంప్ కు రాష్ట్రపతి  భవన్ వద్ద ఘనస్వాగతం లభించింది. ఆయనకు రాష్ట్రపతి రామ్ నాథ్ కోవింద్ దంపతులు, ప్రధాని మోదీ సాదరంగా ఆహ్వానం పలకడంతో పాటు సైనికులు గౌరవ వందనాన్ని అందించారు.\n",
            "\n",
            "\n",
            "ఇటు తెలంగాణలో కరోనా వైరస్ కారణంగా అన్ని దేవాలయాల్లో ముందస్తు చర్యలు చేపట్టారు. భద్రాద్రి రాముడికి కరోనా ఎఫెక్ట్ తగిలింది. ఏప్రిల్ 2న భద్రాద్రిలో జరగనున్న శ్రీరామ నవమి వేడుకలను వెంటాడుతోంది కరోనా. రాష్ట్రంలో కొనసాగుతున్న కరోనా అలర్ట్ నేపథ్యంలో భక్తులు లేకుండానే శ్రీరామనవమి జరుపుతామని మంత్రి పువ్వాడ అజయ్‌ పేర్కొన్నారు. ప్రత్యేక మీడియా సమావేశం ఏర్పాటు చేసిన మంత్రి పువ్వాడ ఈ మేరకు స్పష్టం చేశారు. శ్రీ రాములవారి కల్యాణం టికెట్లు రద్దు చేస్తున్నామని ప్రకటించారు.. టికెట్‌ డబ్బు తిరిగి ఆలయ అధికారులు చెల్లిస్తారన్నారు. కరోనాపై ప్రజలు భయభ్రాంతులకు గురికావొదని, మరింత అప్రమత్తంగా ఉండాలని ఉండాలని సూచించారు.\n",
            "\n",
            "\n",
            "అమెరికా సహా చాలా కొన్ని దేశాలను అభివృద్ది చెందిన దేశాలుగా, భారత్‌, చైనాలతో పాటు మరికొన్ని దేశాలను అభివృద్ది చెందుతున్న దేశాలుగా ఆఫ్రికా దేశాలను వెనుకబడిన దేశాలకు పేర్కొంటున్నారు.\n",
            "\n",
            "\n",
            "మనలో చాలా మంది విద్యుత్ పొదుపు చేయాలి అని విన్నాను. ఎందుకు? అందంగా చాలా సంస్కరణలు. కొన్ని నమ్మకం శక్తి సేవ్ లేకపోతే, దీన్ని చెయ్యవచ్చు చౌక కాదు. ఎవరైనా అది కూడా విద్యుత్ మూలం ఆదా చెప్పారు. కానీ ఎవరూ అది శక్తి సేవ్ అవసరం ఎందుకు అనే ప్రశ్న పై చాలా ప్రత్యేకంగా చెప్పగలను. , సాధారణ హక్కుకు మరియు ఆ మరియు ఇతరులు. ఇంధన వనరుల పొదుపు ప్రయోజనం కోసం విద్యుత్ సేవ్ మొదటి విషయం. అలాగే, పని తొలగించబడుతుంది పవర్ స్టేషన్ చాలా హానికరమైన వాయువులు ఉంది. ఈ సేకరించిన పదార్థాలు హానికరం ప్రజలకు కానీ కూడా పర్యావరణం కోసం మాత్రమే కాదు.\n",
            "\n",
            "\n",
            "['మనలో', 'చాలా', 'మంది', 'విద్యుత్', 'పొదుపు', 'చేయాలి', 'అని', 'విన్నాను', '.', 'ఎందుకు', '?', 'అందంగా', 'చాలా', 'సంస్కరణలు', '.', 'కొన్ని', 'నమ్మకం', 'శక్తి', 'సేవ్', 'లేకపోతే', ',', 'దీన్ని', 'చెయ్యవచ్చు', 'చౌక', 'కాదు', '.', 'ఎవరైనా', 'అది', 'కూడా', 'విద్యుత్', 'మూలం', 'ఆదా', 'చెప్పారు', '.', 'కానీ', 'ఎవరూ', 'అది', 'శక్తి', 'సేవ్', 'అవసరం', 'ఎందుకు', 'అనే', 'ప్రశ్న', 'పై', 'చాలా', 'ప్రత్యేకంగా', 'చెప్పగలను', '.', ',', 'సాధారణ', 'హక్కుకు', 'మరియు', 'ఆ', 'మరియు', 'ఇతరులు', '.', 'ఇంధన', 'వనరుల', 'పొదుపు', 'ప్రయోజనం', 'కోసం', 'విద్యుత్', 'సేవ్', 'మొదటి', 'విషయం', '.', 'అలాగే', ',', 'పని', 'తొలగించబడుతుంది', 'పవర్', 'స్టేషన్', 'చాలా', 'హానికరమైన', 'వాయువులు', 'ఉంది', '.', 'ఈ', 'సేకరించిన', 'పదార్థాలు', 'హానికరం', 'ప్రజలకు', 'కానీ', 'కూడా', 'పర్యావరణం', 'కోసం', 'మాత్రమే', 'కాదు', '.', 'అమెరికా', 'అధ్యక్షుడు', 'డొనాల్డ్', 'ట్రంప్', 'కు', 'రాష్ట్రపతి', 'భవన్', 'వద్ద', 'ఘనస్వాగతం', 'లభించింది', '.', 'ఆయనకు', 'రాష్ట్రపతి', 'రామ్', 'నాథ్', 'కోవింద్', 'దంపతులు', ',', 'ప్రధాని', 'మోదీ', 'సాదరంగా', 'ఆహ్వానం', 'పలకడంతో', 'పాటు', 'సైనికులు', 'గౌరవ', 'వందనాన్ని', 'అందించారు', '.', 'ఇటు', 'తెలంగాణలో', 'కరోనా', 'వైరస్', 'కారణంగా', 'అన్ని', 'దేవాలయాల్లో', 'ముందస్తు', 'చర్యలు', 'చేపట్టారు', '.', 'భద్రాద్రి', 'రాముడికి', 'కరోనా', 'ఎఫెక్ట్', 'తగిలింది', '.', 'ఏప్రిల్', '2', 'న', 'భద్రాద్రిలో', 'జరగనున్న', 'శ్రీరామ', 'నవమి', 'వేడుకలను', 'వెంటాడుతోంది', 'కరోనా', '.', 'రాష్ట్రంలో', 'కొనసాగుతున్న', 'కరోనా', 'అలర్ట్', 'నేపథ్యంలో', 'భక్తులు', 'లేకుండానే', 'శ్రీరామనవమి', 'జరుపుతామని', 'మంత్రి', 'పువ్వాడ', 'అజయ్', '\\u200c', 'పేర్కొన్నారు', '.', 'ప్రత్యేక', 'మీడియా', 'సమావేశం', 'ఏర్పాటు', 'చేసిన', 'మంత్రి', 'పువ్వాడ', 'ఈ', 'మేరకు', 'స్పష్టం', 'చేశారు', '.', 'శ్రీ', 'రాములవారి', 'కల్యాణం', 'టికెట్లు', 'రద్దు', 'చేస్తున్నామని', 'ప్రకటించారు', '.', '.', 'టికెట్', '\\u200c', 'డబ్బు', 'తిరిగి', 'ఆలయ', 'అధికారులు', 'చెల్లిస్తారన్నారు', '.', 'కరోనాపై', 'ప్రజలు', 'భయభ్రాంతులకు', 'గురికావొదని', ',', 'మరింత', 'అప్రమత్తంగా', 'ఉండాలని', 'ఉండాలని', 'సూచించారు', '.', 'అమెరికా', 'సహా', 'చాలా', 'కొన్ని', 'దేశాలను', 'అభివృద్ది', 'చెందిన', 'దేశాలుగా', ',', 'భారత్', '\\u200c', ',', 'చైనాలతో', 'పాటు', 'మరికొన్ని', 'దేశాలను', 'అభివృద్ది', 'చెందుతున్న', 'దేశాలుగా', 'ఆఫ్రికా', 'దేశాలను', 'వెనుకబడిన', 'దేశాలకు', 'పేర్కొంటున్నారు', '.', 'మనలో', 'చాలా', 'మంది', 'విద్యుత్', 'పొదుపు', 'చేయాలి', 'అని', 'విన్నాను', '.', 'ఎందుకు', '?', 'అందంగా', 'చాలా', 'సంస్కరణలు', '.', 'కొన్ని', 'నమ్మకం', 'శక్తి', 'సేవ్', 'లేకపోతే', ',', 'దీన్ని', 'చెయ్యవచ్చు', 'చౌక', 'కాదు', '.', 'ఎవరైనా', 'అది', 'కూడా', 'విద్యుత్', 'మూలం', 'ఆదా', 'చెప్పారు', '.', 'కానీ', 'ఎవరూ', 'అది', 'శక్తి', 'సేవ్', 'అవసరం', 'ఎందుకు', 'అనే', 'ప్రశ్న', 'పై', 'చాలా', 'ప్రత్యేకంగా', 'చెప్పగలను', '.', ',', 'సాధారణ', 'హక్కుకు', 'మరియు', 'ఆ', 'మరియు', 'ఇతరులు', '.', 'ఇంధన', 'వనరుల', 'పొదుపు', 'ప్రయోజనం', 'కోసం', 'విద్యుత్', 'సేవ్', 'మొదటి', 'విషయం', '.', 'అలాగే', ',', 'పని', 'తొలగించబడుతుంది', 'పవర్', 'స్టేషన్', 'చాలా', 'హానికరమైన', 'వాయువులు', 'ఉంది', '.', 'ఈ', 'సేకరించిన', 'పదార్థాలు', 'హానికరం', 'ప్రజలకు', 'కానీ', 'కూడా', 'పర్యావరణం', 'కోసం', 'మాత్రమే', 'కాదు', '.']\n"
          ]
        }
      ]
    },
    {
      "cell_type": "code",
      "source": [
        "import re\n",
        "\n",
        "# Telugu Unicode range: \\u0C00 to \\u0C7F\n",
        "pattern = re.compile(r'[\\u0C00-\\u0C7F0-9.,!?;:\"\\'()\\[\\]{}\\-—–…\\s]')\n",
        "\n",
        "for i in dataset:\n",
        "  telugu_words = pattern.findall(i['text'])\n",
        "  break\n",
        "\n",
        "print(telugu_words)\n",
        "no_of_chars=len(telugu_words)"
      ],
      "metadata": {
        "colab": {
          "base_uri": "https://localhost:8080/"
        },
        "id": "lTbgILlnbVkZ",
        "outputId": "c3026370-3361-4a3a-9565-5fadcb533942"
      },
      "execution_count": 11,
      "outputs": [
        {
          "output_type": "stream",
          "name": "stdout",
          "text": [
            "['అ', 'మ', 'ె', 'ర', 'ి', 'క', 'ా', ' ', 'అ', 'ధ', '్', 'య', 'క', '్', 'ష', 'ు', 'డ', 'ు', ' ', 'డ', 'ొ', 'న', 'ా', 'ల', '్', 'డ', '్', ' ', 'ట', '్', 'ర', 'ం', 'ప', '్', ' ', 'క', 'ు', ' ', 'ర', 'ా', 'ష', '్', 'ట', '్', 'ర', 'ప', 'త', 'ి', ' ', ' ', 'భ', 'వ', 'న', '్', ' ', 'వ', 'ద', '్', 'ద', ' ', 'ఘ', 'న', 'స', '్', 'వ', 'ా', 'గ', 'త', 'ం', ' ', 'ల', 'భ', 'ి', 'ం', 'చ', 'ి', 'ం', 'ద', 'ి', '.', ' ', 'ఆ', 'య', 'న', 'క', 'ు', ' ', 'ర', 'ా', 'ష', '్', 'ట', '్', 'ర', 'ప', 'త', 'ి', ' ', 'ర', 'ా', 'మ', '్', ' ', 'న', 'ా', 'థ', '్', ' ', 'క', 'ో', 'వ', 'ి', 'ం', 'ద', '్', ' ', 'ద', 'ం', 'ప', 'త', 'ు', 'ల', 'ు', ',', ' ', 'ప', '్', 'ర', 'ధ', 'ా', 'న', 'ి', ' ', 'మ', 'ో', 'ద', 'ీ', ' ', 'స', 'ా', 'ద', 'ర', 'ం', 'గ', 'ా', ' ', 'ఆ', 'హ', '్', 'వ', 'ా', 'న', 'ం', ' ', 'ప', 'ల', 'క', 'డ', 'ం', 'త', 'ో', ' ', 'ప', 'ా', 'ట', 'ు', ' ', 'స', 'ై', 'న', 'ి', 'క', 'ు', 'ల', 'ు', ' ', 'గ', 'ౌ', 'ర', 'వ', ' ', 'వ', 'ం', 'ద', 'న', 'ా', 'న', '్', 'న', 'ి', ' ', 'అ', 'ం', 'ద', 'ి', 'ం', 'చ', 'ా', 'ర', 'ు', '.']\n"
          ]
        }
      ]
    },
    {
      "cell_type": "code",
      "source": [
        "Average_word_length=no_of_chars/no_of_words\n",
        "Average_sentence_length=no_of_words/no_of_sentences\n",
        "TTR=unique_tokens/no_of_words\n",
        "\n",
        "print(Average_word_length)\n",
        "print(Average_sentence_length)\n",
        "print(TTR)"
      ],
      "metadata": {
        "colab": {
          "base_uri": "https://localhost:8080/"
        },
        "id": "pwmU8lqqfV0B",
        "outputId": "fc8862fb-1ebb-4420-b712-5cbe2ce9a9a3"
      },
      "execution_count": 17,
      "outputs": [
        {
          "output_type": "stream",
          "name": "stdout",
          "text": [
            "2.258426966292135\n",
            "8.9\n",
            "0.7078651685393258\n"
          ]
        }
      ]
    }
  ]
}