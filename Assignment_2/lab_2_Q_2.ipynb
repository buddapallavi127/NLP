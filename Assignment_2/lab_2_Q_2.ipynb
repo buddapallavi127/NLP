{
  "nbformat": 4,
  "nbformat_minor": 0,
  "metadata": {
    "colab": {
      "provenance": []
    },
    "kernelspec": {
      "name": "python3",
      "display_name": "Python 3"
    },
    "language_info": {
      "name": "python"
    }
  },
  "cells": [
    {
      "cell_type": "code",
      "execution_count": 1,
      "metadata": {
        "colab": {
          "base_uri": "https://localhost:8080/"
        },
        "id": "ME0_ChemdG8H",
        "outputId": "3eaf8c5f-cc8a-4834-db9d-135ae18e29bf"
      },
      "outputs": [
        {
          "output_type": "stream",
          "name": "stdout",
          "text": [
            "Collecting visual-automata\n",
            "  Downloading visual_automata-1.1.1-py3-none-any.whl.metadata (14 kB)\n",
            "Collecting automata-lib (from visual-automata)\n",
            "  Downloading automata_lib-9.1.2-py3-none-any.whl.metadata (4.9 kB)\n",
            "Requirement already satisfied: pandas in /usr/local/lib/python3.11/dist-packages (from visual-automata) (2.2.2)\n",
            "Requirement already satisfied: graphviz in /usr/local/lib/python3.11/dist-packages (from visual-automata) (0.21)\n",
            "Collecting colormath (from visual-automata)\n",
            "  Downloading colormath-3.0.0.tar.gz (39 kB)\n",
            "  Preparing metadata (setup.py) ... \u001b[?25l\u001b[?25hdone\n",
            "Collecting jupyterlab (from visual-automata)\n",
            "  Downloading jupyterlab-4.4.5-py3-none-any.whl.metadata (16 kB)\n",
            "Collecting forbiddenfruit (from visual-automata)\n",
            "  Downloading forbiddenfruit-0.1.4.tar.gz (43 kB)\n",
            "\u001b[2K     \u001b[90m━━━━━━━━━━━━━━━━━━━━━━━━━━━━━━━━━━━━━━━━\u001b[0m \u001b[32m43.8/43.8 kB\u001b[0m \u001b[31m1.2 MB/s\u001b[0m eta \u001b[36m0:00:00\u001b[0m\n",
            "\u001b[?25h  Preparing metadata (setup.py) ... \u001b[?25l\u001b[?25hdone\n",
            "Requirement already satisfied: networkx>=2.6.2 in /usr/local/lib/python3.11/dist-packages (from automata-lib->visual-automata) (3.5)\n",
            "Requirement already satisfied: frozendict>=2.3.4 in /usr/local/lib/python3.11/dist-packages (from automata-lib->visual-automata) (2.4.6)\n",
            "Requirement already satisfied: typing-extensions>=4.5.0 in /usr/local/lib/python3.11/dist-packages (from automata-lib->visual-automata) (4.14.1)\n",
            "Collecting cached_method>=0.1.0 (from automata-lib->visual-automata)\n",
            "  Downloading cached_method-0.1.0-py3-none-any.whl.metadata (2.9 kB)\n",
            "Requirement already satisfied: numpy in /usr/local/lib/python3.11/dist-packages (from colormath->visual-automata) (2.0.2)\n",
            "Collecting async-lru>=1.0.0 (from jupyterlab->visual-automata)\n",
            "  Downloading async_lru-2.0.5-py3-none-any.whl.metadata (4.5 kB)\n",
            "Requirement already satisfied: httpx>=0.25.0 in /usr/local/lib/python3.11/dist-packages (from jupyterlab->visual-automata) (0.28.1)\n",
            "Requirement already satisfied: ipykernel>=6.5.0 in /usr/local/lib/python3.11/dist-packages (from jupyterlab->visual-automata) (6.17.1)\n",
            "Requirement already satisfied: jinja2>=3.0.3 in /usr/local/lib/python3.11/dist-packages (from jupyterlab->visual-automata) (3.1.6)\n",
            "Requirement already satisfied: jupyter-core in /usr/local/lib/python3.11/dist-packages (from jupyterlab->visual-automata) (5.8.1)\n",
            "Collecting jupyter-lsp>=2.0.0 (from jupyterlab->visual-automata)\n",
            "  Downloading jupyter_lsp-2.2.6-py3-none-any.whl.metadata (1.8 kB)\n",
            "Collecting jupyter-server<3,>=2.4.0 (from jupyterlab->visual-automata)\n",
            "  Downloading jupyter_server-2.16.0-py3-none-any.whl.metadata (8.5 kB)\n",
            "Collecting jupyterlab-server<3,>=2.27.1 (from jupyterlab->visual-automata)\n",
            "  Downloading jupyterlab_server-2.27.3-py3-none-any.whl.metadata (5.9 kB)\n",
            "Requirement already satisfied: notebook-shim>=0.2 in /usr/local/lib/python3.11/dist-packages (from jupyterlab->visual-automata) (0.2.4)\n",
            "Requirement already satisfied: packaging in /usr/local/lib/python3.11/dist-packages (from jupyterlab->visual-automata) (25.0)\n",
            "Requirement already satisfied: setuptools>=41.1.0 in /usr/local/lib/python3.11/dist-packages (from jupyterlab->visual-automata) (75.2.0)\n",
            "Requirement already satisfied: tornado>=6.2.0 in /usr/local/lib/python3.11/dist-packages (from jupyterlab->visual-automata) (6.4.2)\n",
            "Requirement already satisfied: traitlets in /usr/local/lib/python3.11/dist-packages (from jupyterlab->visual-automata) (5.7.1)\n",
            "Requirement already satisfied: python-dateutil>=2.8.2 in /usr/local/lib/python3.11/dist-packages (from pandas->visual-automata) (2.9.0.post0)\n",
            "Requirement already satisfied: pytz>=2020.1 in /usr/local/lib/python3.11/dist-packages (from pandas->visual-automata) (2025.2)\n",
            "Requirement already satisfied: tzdata>=2022.7 in /usr/local/lib/python3.11/dist-packages (from pandas->visual-automata) (2025.2)\n",
            "Requirement already satisfied: anyio in /usr/local/lib/python3.11/dist-packages (from httpx>=0.25.0->jupyterlab->visual-automata) (4.10.0)\n",
            "Requirement already satisfied: certifi in /usr/local/lib/python3.11/dist-packages (from httpx>=0.25.0->jupyterlab->visual-automata) (2025.8.3)\n",
            "Requirement already satisfied: httpcore==1.* in /usr/local/lib/python3.11/dist-packages (from httpx>=0.25.0->jupyterlab->visual-automata) (1.0.9)\n",
            "Requirement already satisfied: idna in /usr/local/lib/python3.11/dist-packages (from httpx>=0.25.0->jupyterlab->visual-automata) (3.10)\n",
            "Requirement already satisfied: h11>=0.16 in /usr/local/lib/python3.11/dist-packages (from httpcore==1.*->httpx>=0.25.0->jupyterlab->visual-automata) (0.16.0)\n",
            "Requirement already satisfied: debugpy>=1.0 in /usr/local/lib/python3.11/dist-packages (from ipykernel>=6.5.0->jupyterlab->visual-automata) (1.8.15)\n",
            "Requirement already satisfied: ipython>=7.23.1 in /usr/local/lib/python3.11/dist-packages (from ipykernel>=6.5.0->jupyterlab->visual-automata) (7.34.0)\n",
            "Requirement already satisfied: jupyter-client>=6.1.12 in /usr/local/lib/python3.11/dist-packages (from ipykernel>=6.5.0->jupyterlab->visual-automata) (6.1.12)\n",
            "Requirement already satisfied: matplotlib-inline>=0.1 in /usr/local/lib/python3.11/dist-packages (from ipykernel>=6.5.0->jupyterlab->visual-automata) (0.1.7)\n",
            "Requirement already satisfied: nest-asyncio in /usr/local/lib/python3.11/dist-packages (from ipykernel>=6.5.0->jupyterlab->visual-automata) (1.6.0)\n",
            "Requirement already satisfied: psutil in /usr/local/lib/python3.11/dist-packages (from ipykernel>=6.5.0->jupyterlab->visual-automata) (5.9.5)\n",
            "Requirement already satisfied: pyzmq>=17 in /usr/local/lib/python3.11/dist-packages (from ipykernel>=6.5.0->jupyterlab->visual-automata) (26.2.1)\n",
            "Requirement already satisfied: MarkupSafe>=2.0 in /usr/local/lib/python3.11/dist-packages (from jinja2>=3.0.3->jupyterlab->visual-automata) (3.0.2)\n",
            "Requirement already satisfied: argon2-cffi>=21.1 in /usr/local/lib/python3.11/dist-packages (from jupyter-server<3,>=2.4.0->jupyterlab->visual-automata) (25.1.0)\n",
            "Collecting jupyter-client>=6.1.12 (from ipykernel>=6.5.0->jupyterlab->visual-automata)\n",
            "  Downloading jupyter_client-8.6.3-py3-none-any.whl.metadata (8.3 kB)\n",
            "Collecting jupyter-events>=0.11.0 (from jupyter-server<3,>=2.4.0->jupyterlab->visual-automata)\n",
            "  Downloading jupyter_events-0.12.0-py3-none-any.whl.metadata (5.8 kB)\n",
            "Collecting jupyter-server-terminals>=0.4.4 (from jupyter-server<3,>=2.4.0->jupyterlab->visual-automata)\n",
            "  Downloading jupyter_server_terminals-0.5.3-py3-none-any.whl.metadata (5.6 kB)\n",
            "Requirement already satisfied: nbconvert>=6.4.4 in /usr/local/lib/python3.11/dist-packages (from jupyter-server<3,>=2.4.0->jupyterlab->visual-automata) (7.16.6)\n",
            "Requirement already satisfied: nbformat>=5.3.0 in /usr/local/lib/python3.11/dist-packages (from jupyter-server<3,>=2.4.0->jupyterlab->visual-automata) (5.10.4)\n",
            "Collecting overrides>=5.0 (from jupyter-server<3,>=2.4.0->jupyterlab->visual-automata)\n",
            "  Downloading overrides-7.7.0-py3-none-any.whl.metadata (5.8 kB)\n",
            "Requirement already satisfied: prometheus-client>=0.9 in /usr/local/lib/python3.11/dist-packages (from jupyter-server<3,>=2.4.0->jupyterlab->visual-automata) (0.22.1)\n",
            "Requirement already satisfied: send2trash>=1.8.2 in /usr/local/lib/python3.11/dist-packages (from jupyter-server<3,>=2.4.0->jupyterlab->visual-automata) (1.8.3)\n",
            "Requirement already satisfied: terminado>=0.8.3 in /usr/local/lib/python3.11/dist-packages (from jupyter-server<3,>=2.4.0->jupyterlab->visual-automata) (0.18.1)\n",
            "Requirement already satisfied: websocket-client>=1.7 in /usr/local/lib/python3.11/dist-packages (from jupyter-server<3,>=2.4.0->jupyterlab->visual-automata) (1.8.0)\n",
            "Requirement already satisfied: platformdirs>=2.5 in /usr/local/lib/python3.11/dist-packages (from jupyter-core->jupyterlab->visual-automata) (4.3.8)\n",
            "Requirement already satisfied: babel>=2.10 in /usr/local/lib/python3.11/dist-packages (from jupyterlab-server<3,>=2.27.1->jupyterlab->visual-automata) (2.17.0)\n",
            "Collecting json5>=0.9.0 (from jupyterlab-server<3,>=2.27.1->jupyterlab->visual-automata)\n",
            "  Downloading json5-0.12.1-py3-none-any.whl.metadata (36 kB)\n",
            "Requirement already satisfied: jsonschema>=4.18.0 in /usr/local/lib/python3.11/dist-packages (from jupyterlab-server<3,>=2.27.1->jupyterlab->visual-automata) (4.25.0)\n",
            "Requirement already satisfied: requests>=2.31 in /usr/local/lib/python3.11/dist-packages (from jupyterlab-server<3,>=2.27.1->jupyterlab->visual-automata) (2.32.3)\n",
            "Requirement already satisfied: six>=1.5 in /usr/local/lib/python3.11/dist-packages (from python-dateutil>=2.8.2->pandas->visual-automata) (1.17.0)\n",
            "Requirement already satisfied: sniffio>=1.1 in /usr/local/lib/python3.11/dist-packages (from anyio->httpx>=0.25.0->jupyterlab->visual-automata) (1.3.1)\n",
            "Requirement already satisfied: argon2-cffi-bindings in /usr/local/lib/python3.11/dist-packages (from argon2-cffi>=21.1->jupyter-server<3,>=2.4.0->jupyterlab->visual-automata) (25.1.0)\n",
            "Collecting jedi>=0.16 (from ipython>=7.23.1->ipykernel>=6.5.0->jupyterlab->visual-automata)\n",
            "  Downloading jedi-0.19.2-py2.py3-none-any.whl.metadata (22 kB)\n",
            "Requirement already satisfied: decorator in /usr/local/lib/python3.11/dist-packages (from ipython>=7.23.1->ipykernel>=6.5.0->jupyterlab->visual-automata) (4.4.2)\n",
            "Requirement already satisfied: pickleshare in /usr/local/lib/python3.11/dist-packages (from ipython>=7.23.1->ipykernel>=6.5.0->jupyterlab->visual-automata) (0.7.5)\n",
            "Requirement already satisfied: prompt-toolkit!=3.0.0,!=3.0.1,<3.1.0,>=2.0.0 in /usr/local/lib/python3.11/dist-packages (from ipython>=7.23.1->ipykernel>=6.5.0->jupyterlab->visual-automata) (3.0.51)\n",
            "Requirement already satisfied: pygments in /usr/local/lib/python3.11/dist-packages (from ipython>=7.23.1->ipykernel>=6.5.0->jupyterlab->visual-automata) (2.19.2)\n",
            "Requirement already satisfied: backcall in /usr/local/lib/python3.11/dist-packages (from ipython>=7.23.1->ipykernel>=6.5.0->jupyterlab->visual-automata) (0.2.0)\n",
            "Requirement already satisfied: pexpect>4.3 in /usr/local/lib/python3.11/dist-packages (from ipython>=7.23.1->ipykernel>=6.5.0->jupyterlab->visual-automata) (4.9.0)\n",
            "Requirement already satisfied: attrs>=22.2.0 in /usr/local/lib/python3.11/dist-packages (from jsonschema>=4.18.0->jupyterlab-server<3,>=2.27.1->jupyterlab->visual-automata) (25.3.0)\n",
            "Requirement already satisfied: jsonschema-specifications>=2023.03.6 in /usr/local/lib/python3.11/dist-packages (from jsonschema>=4.18.0->jupyterlab-server<3,>=2.27.1->jupyterlab->visual-automata) (2025.4.1)\n",
            "Requirement already satisfied: referencing>=0.28.4 in /usr/local/lib/python3.11/dist-packages (from jsonschema>=4.18.0->jupyterlab-server<3,>=2.27.1->jupyterlab->visual-automata) (0.36.2)\n",
            "Requirement already satisfied: rpds-py>=0.7.1 in /usr/local/lib/python3.11/dist-packages (from jsonschema>=4.18.0->jupyterlab-server<3,>=2.27.1->jupyterlab->visual-automata) (0.26.0)\n",
            "Collecting python-json-logger>=2.0.4 (from jupyter-events>=0.11.0->jupyter-server<3,>=2.4.0->jupyterlab->visual-automata)\n",
            "  Downloading python_json_logger-3.3.0-py3-none-any.whl.metadata (4.0 kB)\n",
            "Requirement already satisfied: pyyaml>=5.3 in /usr/local/lib/python3.11/dist-packages (from jupyter-events>=0.11.0->jupyter-server<3,>=2.4.0->jupyterlab->visual-automata) (6.0.2)\n",
            "Collecting rfc3339-validator (from jupyter-events>=0.11.0->jupyter-server<3,>=2.4.0->jupyterlab->visual-automata)\n",
            "  Downloading rfc3339_validator-0.1.4-py2.py3-none-any.whl.metadata (1.5 kB)\n",
            "Collecting rfc3986-validator>=0.1.1 (from jupyter-events>=0.11.0->jupyter-server<3,>=2.4.0->jupyterlab->visual-automata)\n",
            "  Downloading rfc3986_validator-0.1.1-py2.py3-none-any.whl.metadata (1.7 kB)\n",
            "Requirement already satisfied: beautifulsoup4 in /usr/local/lib/python3.11/dist-packages (from nbconvert>=6.4.4->jupyter-server<3,>=2.4.0->jupyterlab->visual-automata) (4.13.4)\n",
            "Requirement already satisfied: bleach!=5.0.0 in /usr/local/lib/python3.11/dist-packages (from bleach[css]!=5.0.0->nbconvert>=6.4.4->jupyter-server<3,>=2.4.0->jupyterlab->visual-automata) (6.2.0)\n",
            "Requirement already satisfied: defusedxml in /usr/local/lib/python3.11/dist-packages (from nbconvert>=6.4.4->jupyter-server<3,>=2.4.0->jupyterlab->visual-automata) (0.7.1)\n",
            "Requirement already satisfied: jupyterlab-pygments in /usr/local/lib/python3.11/dist-packages (from nbconvert>=6.4.4->jupyter-server<3,>=2.4.0->jupyterlab->visual-automata) (0.3.0)\n",
            "Requirement already satisfied: mistune<4,>=2.0.3 in /usr/local/lib/python3.11/dist-packages (from nbconvert>=6.4.4->jupyter-server<3,>=2.4.0->jupyterlab->visual-automata) (3.1.3)\n",
            "Requirement already satisfied: nbclient>=0.5.0 in /usr/local/lib/python3.11/dist-packages (from nbconvert>=6.4.4->jupyter-server<3,>=2.4.0->jupyterlab->visual-automata) (0.10.2)\n",
            "Requirement already satisfied: pandocfilters>=1.4.1 in /usr/local/lib/python3.11/dist-packages (from nbconvert>=6.4.4->jupyter-server<3,>=2.4.0->jupyterlab->visual-automata) (1.5.1)\n",
            "Requirement already satisfied: fastjsonschema>=2.15 in /usr/local/lib/python3.11/dist-packages (from nbformat>=5.3.0->jupyter-server<3,>=2.4.0->jupyterlab->visual-automata) (2.21.1)\n",
            "Requirement already satisfied: charset-normalizer<4,>=2 in /usr/local/lib/python3.11/dist-packages (from requests>=2.31->jupyterlab-server<3,>=2.27.1->jupyterlab->visual-automata) (3.4.2)\n",
            "Requirement already satisfied: urllib3<3,>=1.21.1 in /usr/local/lib/python3.11/dist-packages (from requests>=2.31->jupyterlab-server<3,>=2.27.1->jupyterlab->visual-automata) (2.5.0)\n",
            "Requirement already satisfied: ptyprocess in /usr/local/lib/python3.11/dist-packages (from terminado>=0.8.3->jupyter-server<3,>=2.4.0->jupyterlab->visual-automata) (0.7.0)\n",
            "Requirement already satisfied: webencodings in /usr/local/lib/python3.11/dist-packages (from bleach!=5.0.0->bleach[css]!=5.0.0->nbconvert>=6.4.4->jupyter-server<3,>=2.4.0->jupyterlab->visual-automata) (0.5.1)\n",
            "Requirement already satisfied: tinycss2<1.5,>=1.1.0 in /usr/local/lib/python3.11/dist-packages (from bleach[css]!=5.0.0->nbconvert>=6.4.4->jupyter-server<3,>=2.4.0->jupyterlab->visual-automata) (1.4.0)\n",
            "Requirement already satisfied: parso<0.9.0,>=0.8.4 in /usr/local/lib/python3.11/dist-packages (from jedi>=0.16->ipython>=7.23.1->ipykernel>=6.5.0->jupyterlab->visual-automata) (0.8.4)\n",
            "Collecting fqdn (from jsonschema[format-nongpl]>=4.18.0->jupyter-events>=0.11.0->jupyter-server<3,>=2.4.0->jupyterlab->visual-automata)\n",
            "  Downloading fqdn-1.5.1-py3-none-any.whl.metadata (1.4 kB)\n",
            "Collecting isoduration (from jsonschema[format-nongpl]>=4.18.0->jupyter-events>=0.11.0->jupyter-server<3,>=2.4.0->jupyterlab->visual-automata)\n",
            "  Downloading isoduration-20.11.0-py3-none-any.whl.metadata (5.7 kB)\n",
            "Requirement already satisfied: jsonpointer>1.13 in /usr/local/lib/python3.11/dist-packages (from jsonschema[format-nongpl]>=4.18.0->jupyter-events>=0.11.0->jupyter-server<3,>=2.4.0->jupyterlab->visual-automata) (3.0.0)\n",
            "Collecting rfc3987-syntax>=1.1.0 (from jsonschema[format-nongpl]>=4.18.0->jupyter-events>=0.11.0->jupyter-server<3,>=2.4.0->jupyterlab->visual-automata)\n",
            "  Downloading rfc3987_syntax-1.1.0-py3-none-any.whl.metadata (7.7 kB)\n",
            "Collecting uri-template (from jsonschema[format-nongpl]>=4.18.0->jupyter-events>=0.11.0->jupyter-server<3,>=2.4.0->jupyterlab->visual-automata)\n",
            "  Downloading uri_template-1.3.0-py3-none-any.whl.metadata (8.8 kB)\n",
            "Requirement already satisfied: webcolors>=24.6.0 in /usr/local/lib/python3.11/dist-packages (from jsonschema[format-nongpl]>=4.18.0->jupyter-events>=0.11.0->jupyter-server<3,>=2.4.0->jupyterlab->visual-automata) (24.11.1)\n",
            "Requirement already satisfied: wcwidth in /usr/local/lib/python3.11/dist-packages (from prompt-toolkit!=3.0.0,!=3.0.1,<3.1.0,>=2.0.0->ipython>=7.23.1->ipykernel>=6.5.0->jupyterlab->visual-automata) (0.2.13)\n",
            "Requirement already satisfied: cffi>=1.0.1 in /usr/local/lib/python3.11/dist-packages (from argon2-cffi-bindings->argon2-cffi>=21.1->jupyter-server<3,>=2.4.0->jupyterlab->visual-automata) (1.17.1)\n",
            "Requirement already satisfied: soupsieve>1.2 in /usr/local/lib/python3.11/dist-packages (from beautifulsoup4->nbconvert>=6.4.4->jupyter-server<3,>=2.4.0->jupyterlab->visual-automata) (2.7)\n",
            "Requirement already satisfied: pycparser in /usr/local/lib/python3.11/dist-packages (from cffi>=1.0.1->argon2-cffi-bindings->argon2-cffi>=21.1->jupyter-server<3,>=2.4.0->jupyterlab->visual-automata) (2.22)\n",
            "Collecting lark>=1.2.2 (from rfc3987-syntax>=1.1.0->jsonschema[format-nongpl]>=4.18.0->jupyter-events>=0.11.0->jupyter-server<3,>=2.4.0->jupyterlab->visual-automata)\n",
            "  Downloading lark-1.2.2-py3-none-any.whl.metadata (1.8 kB)\n",
            "Collecting arrow>=0.15.0 (from isoduration->jsonschema[format-nongpl]>=4.18.0->jupyter-events>=0.11.0->jupyter-server<3,>=2.4.0->jupyterlab->visual-automata)\n",
            "  Downloading arrow-1.3.0-py3-none-any.whl.metadata (7.5 kB)\n",
            "Collecting types-python-dateutil>=2.8.10 (from arrow>=0.15.0->isoduration->jsonschema[format-nongpl]>=4.18.0->jupyter-events>=0.11.0->jupyter-server<3,>=2.4.0->jupyterlab->visual-automata)\n",
            "  Downloading types_python_dateutil-2.9.0.20250809-py3-none-any.whl.metadata (1.8 kB)\n",
            "Downloading visual_automata-1.1.1-py3-none-any.whl (15 kB)\n",
            "Downloading automata_lib-9.1.2-py3-none-any.whl (80 kB)\n",
            "\u001b[2K   \u001b[90m━━━━━━━━━━━━━━━━━━━━━━━━━━━━━━━━━━━━━━━━\u001b[0m \u001b[32m80.8/80.8 kB\u001b[0m \u001b[31m787.6 kB/s\u001b[0m eta \u001b[36m0:00:00\u001b[0m\n",
            "\u001b[?25hDownloading jupyterlab-4.4.5-py3-none-any.whl (12.3 MB)\n",
            "\u001b[2K   \u001b[90m━━━━━━━━━━━━━━━━━━━━━━━━━━━━━━━━━━━━━━━━\u001b[0m \u001b[32m12.3/12.3 MB\u001b[0m \u001b[31m1.4 MB/s\u001b[0m eta \u001b[36m0:00:00\u001b[0m\n",
            "\u001b[?25hDownloading async_lru-2.0.5-py3-none-any.whl (6.1 kB)\n",
            "Downloading cached_method-0.1.0-py3-none-any.whl (4.2 kB)\n",
            "Downloading jupyter_lsp-2.2.6-py3-none-any.whl (69 kB)\n",
            "\u001b[2K   \u001b[90m━━━━━━━━━━━━━━━━━━━━━━━━━━━━━━━━━━━━━━━━\u001b[0m \u001b[32m69.4/69.4 kB\u001b[0m \u001b[31m2.0 MB/s\u001b[0m eta \u001b[36m0:00:00\u001b[0m\n",
            "\u001b[?25hDownloading jupyter_server-2.16.0-py3-none-any.whl (386 kB)\n",
            "\u001b[2K   \u001b[90m━━━━━━━━━━━━━━━━━━━━━━━━━━━━━━━━━━━━━━━━\u001b[0m \u001b[32m386.9/386.9 kB\u001b[0m \u001b[31m2.1 MB/s\u001b[0m eta \u001b[36m0:00:00\u001b[0m\n",
            "\u001b[?25hDownloading jupyterlab_server-2.27.3-py3-none-any.whl (59 kB)\n",
            "\u001b[2K   \u001b[90m━━━━━━━━━━━━━━━━━━━━━━━━━━━━━━━━━━━━━━━━\u001b[0m \u001b[32m59.7/59.7 kB\u001b[0m \u001b[31m1.7 MB/s\u001b[0m eta \u001b[36m0:00:00\u001b[0m\n",
            "\u001b[?25hDownloading json5-0.12.1-py3-none-any.whl (36 kB)\n",
            "Downloading jupyter_client-8.6.3-py3-none-any.whl (106 kB)\n",
            "\u001b[2K   \u001b[90m━━━━━━━━━━━━━━━━━━━━━━━━━━━━━━━━━━━━━━━━\u001b[0m \u001b[32m106.1/106.1 kB\u001b[0m \u001b[31m2.3 MB/s\u001b[0m eta \u001b[36m0:00:00\u001b[0m\n",
            "\u001b[?25hDownloading jupyter_events-0.12.0-py3-none-any.whl (19 kB)\n",
            "Downloading jupyter_server_terminals-0.5.3-py3-none-any.whl (13 kB)\n",
            "Downloading overrides-7.7.0-py3-none-any.whl (17 kB)\n",
            "Downloading jedi-0.19.2-py2.py3-none-any.whl (1.6 MB)\n",
            "\u001b[2K   \u001b[90m━━━━━━━━━━━━━━━━━━━━━━━━━━━━━━━━━━━━━━━━\u001b[0m \u001b[32m1.6/1.6 MB\u001b[0m \u001b[31m2.6 MB/s\u001b[0m eta \u001b[36m0:00:00\u001b[0m\n",
            "\u001b[?25hDownloading python_json_logger-3.3.0-py3-none-any.whl (15 kB)\n",
            "Downloading rfc3986_validator-0.1.1-py2.py3-none-any.whl (4.2 kB)\n",
            "Downloading rfc3339_validator-0.1.4-py2.py3-none-any.whl (3.5 kB)\n",
            "Downloading rfc3987_syntax-1.1.0-py3-none-any.whl (8.0 kB)\n",
            "Downloading fqdn-1.5.1-py3-none-any.whl (9.1 kB)\n",
            "Downloading isoduration-20.11.0-py3-none-any.whl (11 kB)\n",
            "Downloading uri_template-1.3.0-py3-none-any.whl (11 kB)\n",
            "Downloading arrow-1.3.0-py3-none-any.whl (66 kB)\n",
            "\u001b[2K   \u001b[90m━━━━━━━━━━━━━━━━━━━━━━━━━━━━━━━━━━━━━━━━\u001b[0m \u001b[32m66.4/66.4 kB\u001b[0m \u001b[31m2.2 MB/s\u001b[0m eta \u001b[36m0:00:00\u001b[0m\n",
            "\u001b[?25hDownloading lark-1.2.2-py3-none-any.whl (111 kB)\n",
            "\u001b[2K   \u001b[90m━━━━━━━━━━━━━━━━━━━━━━━━━━━━━━━━━━━━━━━━\u001b[0m \u001b[32m111.0/111.0 kB\u001b[0m \u001b[31m2.6 MB/s\u001b[0m eta \u001b[36m0:00:00\u001b[0m\n",
            "\u001b[?25hDownloading types_python_dateutil-2.9.0.20250809-py3-none-any.whl (17 kB)\n",
            "Building wheels for collected packages: colormath, forbiddenfruit\n",
            "  Building wheel for colormath (setup.py) ... \u001b[?25l\u001b[?25hdone\n",
            "  Created wheel for colormath: filename=colormath-3.0.0-py3-none-any.whl size=39405 sha256=23c65cb35f60af5ca799545654690aedb7e6a1f46ac043abe8a1a0bcc0def384\n",
            "  Stored in directory: /root/.cache/pip/wheels/f5/ce/f7/7039d7b57e1a27fc2f6bb2b2abed1be362eefece03caf2fb9a\n",
            "  Building wheel for forbiddenfruit (setup.py) ... \u001b[?25l\u001b[?25hdone\n",
            "  Created wheel for forbiddenfruit: filename=forbiddenfruit-0.1.4-py3-none-any.whl size=21789 sha256=6c0dd52699d7da40a6ddc5928dee48c89f033575c36780a226ac3ba321bb1e97\n",
            "  Stored in directory: /root/.cache/pip/wheels/a3/09/38/5a94e2df4ae8f2cfc8053997507ad46b07009af3afc34a9a9c\n",
            "Successfully built colormath forbiddenfruit\n",
            "Installing collected packages: forbiddenfruit, uri-template, types-python-dateutil, rfc3986-validator, rfc3339-validator, python-json-logger, overrides, lark, json5, jedi, fqdn, colormath, cached_method, async-lru, rfc3987-syntax, jupyter-server-terminals, jupyter-client, automata-lib, arrow, isoduration, jupyter-events, jupyter-server, jupyterlab-server, jupyter-lsp, jupyterlab, visual-automata\n",
            "  Attempting uninstall: jupyter-client\n",
            "    Found existing installation: jupyter-client 6.1.12\n",
            "    Uninstalling jupyter-client-6.1.12:\n",
            "      Successfully uninstalled jupyter-client-6.1.12\n",
            "  Attempting uninstall: jupyter-server\n",
            "    Found existing installation: jupyter-server 1.16.0\n",
            "    Uninstalling jupyter-server-1.16.0:\n",
            "      Successfully uninstalled jupyter-server-1.16.0\n",
            "\u001b[31mERROR: pip's dependency resolver does not currently take into account all the packages that are installed. This behaviour is the source of the following dependency conflicts.\n",
            "google-colab 1.0.0 requires jupyter-server==1.16.0, but you have jupyter-server 2.16.0 which is incompatible.\n",
            "jupyter-kernel-gateway 2.5.2 requires jupyter-client<8.0,>=5.2.0, but you have jupyter-client 8.6.3 which is incompatible.\n",
            "notebook 6.5.7 requires jupyter-client<8,>=5.3.4, but you have jupyter-client 8.6.3 which is incompatible.\u001b[0m\u001b[31m\n",
            "\u001b[0mSuccessfully installed arrow-1.3.0 async-lru-2.0.5 automata-lib-9.1.2 cached_method-0.1.0 colormath-3.0.0 forbiddenfruit-0.1.4 fqdn-1.5.1 isoduration-20.11.0 jedi-0.19.2 json5-0.12.1 jupyter-client-8.6.3 jupyter-events-0.12.0 jupyter-lsp-2.2.6 jupyter-server-2.16.0 jupyter-server-terminals-0.5.3 jupyterlab-4.4.5 jupyterlab-server-2.27.3 lark-1.2.2 overrides-7.7.0 python-json-logger-3.3.0 rfc3339-validator-0.1.4 rfc3986-validator-0.1.1 rfc3987-syntax-1.1.0 types-python-dateutil-2.9.0.20250809 uri-template-1.3.0 visual-automata-1.1.1\n"
          ]
        }
      ],
      "source": [
        "!pip install visual-automata"
      ]
    },
    {
      "cell_type": "code",
      "source": [
        "from visual_automata.fa.dfa import VisualDFA\n",
        "import re"
      ],
      "metadata": {
        "id": "1gcJ_WqNdxIr"
      },
      "execution_count": 2,
      "outputs": []
    },
    {
      "cell_type": "code",
      "source": [
        "with open(\"brown_nouns.txt\", \"r\") as f:\n",
        "    nouns = [line.strip().lower() for line in f if line.strip()]\n",
        "\n",
        "print(f\"Loaded {len(nouns)} nouns. Sample:\", nouns[:10])"
      ],
      "metadata": {
        "colab": {
          "base_uri": "https://localhost:8080/"
        },
        "id": "QbH9PyWLdzUR",
        "outputId": "2b9edc67-6b67-4d73-a3fb-ef96470979f8"
      },
      "execution_count": 4,
      "outputs": [
        {
          "output_type": "stream",
          "name": "stdout",
          "text": [
            "Loaded 16814 nouns. Sample: ['investigation primary election evidence irregularities place jury presentments charge election', 'praise thanks manner election term jury reports irregularities primary handful reports jury', 'interest election number voters size city jury registration election laws legislators laws end jury', 'number topics departments practices interest governments jury offices efficiency cost', 'administration jury personnel result city personnel policies city steps problem implementation', 'automobile title law jury funds date implementation law jury swipe handling funds child welfare', 'services homes items assistance program jury funds welfare departments counties state', 'exception money jurors distribution funds program counties future portion funds jurors failure', 'burden taxpayers jury court fire practices appointment appraisers guardians administrators', 'awarding fees compensation jury court procedures recommendations juries interim citizens']\n"
          ]
        }
      ]
    },
    {
      "cell_type": "code",
      "source": [
        "def analyze_word(word):\n",
        "    if re.match(r\".*(s|x|z|ch|sh)es$\", word):\n",
        "        root = re.sub(r\"es$\", \"\", word)\n",
        "        return f\"{root}+N+PL\"\n",
        "\n",
        "    if re.match(r\".*ies$\", word):\n",
        "        root = re.sub(r\"ies$\", \"y\", word)\n",
        "        return f\"{root}+N+PL\"\n",
        "\n",
        "    if re.match(r\".+s$\", word) and not re.match(r\".*(ss|us|is)$\", word):\n",
        "        root = re.sub(r\"s$\", \"\", word)\n",
        "        return f\"{root}+N+PL\"\n",
        "\n",
        "    if word in nouns:\n",
        "        return f\"{word}+N+SG\"\n",
        "\n",
        "    return \"Invalid Word\"\n"
      ],
      "metadata": {
        "id": "IapNn1m-d1R8"
      },
      "execution_count": 5,
      "outputs": []
    },
    {
      "cell_type": "code",
      "source": [
        "results = {}\n",
        "for noun in nouns:\n",
        "    results[noun] = analyze_word(noun)\n",
        "\n",
        "for k, v in list(results.items())[:10]:\n",
        "    print(f\"{k} : {v}\")"
      ],
      "metadata": {
        "colab": {
          "base_uri": "https://localhost:8080/"
        },
        "id": "WLkx1hkgd4mi",
        "outputId": "cf0d0f49-54b2-4404-9e09-4bf6f339d385"
      },
      "execution_count": 6,
      "outputs": [
        {
          "output_type": "stream",
          "name": "stdout",
          "text": [
            "investigation primary election evidence irregularities place jury presentments charge election : investigation primary election evidence irregularities place jury presentments charge election+N+SG\n",
            "praise thanks manner election term jury reports irregularities primary handful reports jury : praise thanks manner election term jury reports irregularities primary handful reports jury+N+SG\n",
            "interest election number voters size city jury registration election laws legislators laws end jury : interest election number voters size city jury registration election laws legislators laws end jury+N+SG\n",
            "number topics departments practices interest governments jury offices efficiency cost : number topics departments practices interest governments jury offices efficiency cost+N+SG\n",
            "administration jury personnel result city personnel policies city steps problem implementation : administration jury personnel result city personnel policies city steps problem implementation+N+SG\n",
            "automobile title law jury funds date implementation law jury swipe handling funds child welfare : automobile title law jury funds date implementation law jury swipe handling funds child welfare+N+SG\n",
            "services homes items assistance program jury funds welfare departments counties state : services homes items assistance program jury funds welfare departments counties state+N+SG\n",
            "exception money jurors distribution funds program counties future portion funds jurors failure : exception money jurors distribution funds program counties future portion funds jurors failure+N+SG\n",
            "burden taxpayers jury court fire practices appointment appraisers guardians administrators : burden taxpayers jury court fire practices appointment appraisers guardians administrator+N+PL\n",
            "awarding fees compensation jury court procedures recommendations juries interim citizens : awarding fees compensation jury court procedures recommendations juries interim citizen+N+PL\n"
          ]
        }
      ]
    },
    {
      "cell_type": "code",
      "source": [
        "output_file = \"noun_analysis_output.txt\"\n",
        "with open(output_file, \"w\") as f:\n",
        "    for word, analysis in results.items():\n",
        "        f.write(f\"{word} : {analysis}\\n\")\n",
        "\n",
        "print(f\"Results saved to {output_file}\")"
      ],
      "metadata": {
        "colab": {
          "base_uri": "https://localhost:8080/"
        },
        "id": "gapHeyZHd7SA",
        "outputId": "40447131-d057-4077-ebcf-4a3513368965"
      },
      "execution_count": 7,
      "outputs": [
        {
          "output_type": "stream",
          "name": "stdout",
          "text": [
            "Results saved to noun_analysis_output.txt\n"
          ]
        }
      ]
    },
    {
      "cell_type": "code",
      "source": [
        "from visual_automata.fa.dfa import VisualDFA\n",
        "\n",
        "states = {\"q0\", \"q1\", \"q2\", \"q3\", \"dead\"}\n",
        "input_symbols = {\"letter\", \"s\", \"e\", \"y\"}\n",
        "\n",
        "transitions = {\n",
        "    \"q0\": {\"letter\": \"q0\", \"s\": \"q1\", \"e\": \"dead\", \"y\": \"q2\"},\n",
        "    \"q1\": {\"letter\": \"dead\", \"s\": \"dead\", \"e\": \"q3\", \"y\": \"dead\"},\n",
        "    \"q2\": {\"letter\": \"dead\", \"s\": \"q3\", \"e\": \"dead\", \"y\": \"dead\"},\n",
        "    \"q3\": {\"letter\": \"q3\", \"s\": \"q3\", \"e\": \"q3\", \"y\": \"q3\"},\n",
        "    \"dead\": {\"letter\": \"dead\", \"s\": \"dead\", \"e\": \"dead\", \"y\": \"dead\"}\n",
        "}\n",
        "\n",
        "dfa = VisualDFA(\n",
        "    states=states,\n",
        "    input_symbols=input_symbols,\n",
        "    transitions=transitions,\n",
        "    initial_state=\"q0\",\n",
        "    final_states={\"q3\"}\n",
        ")\n",
        "\n",
        "dfa.show_diagram(filename=\"fst_dfa.png\", input_str=\"\")"
      ],
      "metadata": {
        "colab": {
          "base_uri": "https://localhost:8080/",
          "height": 544
        },
        "id": "S5LO9-jBeTAB",
        "outputId": "71a47be8-7721-4f9b-bfd9-c315f3c2e594"
      },
      "execution_count": 8,
      "outputs": [
        {
          "output_type": "execute_result",
          "data": {
            "image/svg+xml": "<?xml version=\"1.0\" encoding=\"UTF-8\" standalone=\"no\"?>\n<!DOCTYPE svg PUBLIC \"-//W3C//DTD SVG 1.1//EN\"\n \"http://www.w3.org/Graphics/SVG/1.1/DTD/svg11.dtd\">\n<!-- Generated by graphviz version 2.43.0 (0)\n -->\n<!-- Title: %3 Pages: 1 -->\n<svg width=\"304pt\" height=\"392pt\"\n viewBox=\"0.00 0.00 304.19 391.80\" xmlns=\"http://www.w3.org/2000/svg\" xmlns:xlink=\"http://www.w3.org/1999/xlink\">\n<g id=\"graph0\" class=\"graph\" transform=\"scale(1 1) rotate(0) translate(4 387.8)\">\n<title>%3</title>\n<polygon fill=\"white\" stroke=\"transparent\" points=\"-4,4 -4,-387.8 300.19,-387.8 300.19,4 -4,4\"/>\n<!-- Initial -->\n<g id=\"node1\" class=\"node\">\n<title>Initial</title>\n<ellipse fill=\"black\" stroke=\"black\" cx=\"1.8\" cy=\"-232.5\" rx=\"1.8\" ry=\"1.8\"/>\n</g>\n<!-- q0 -->\n<g id=\"node3\" class=\"node\">\n<title>q0</title>\n<ellipse fill=\"none\" stroke=\"black\" cx=\"60.1\" cy=\"-232.5\" rx=\"19.5\" ry=\"19.5\"/>\n<text text-anchor=\"middle\" x=\"60.1\" y=\"-228.8\" font-family=\"Times,serif\" font-size=\"14.00\">q0</text>\n</g>\n<!-- Initial&#45;&gt;q0 -->\n<g id=\"edge1\" class=\"edge\">\n<title>Initial&#45;&gt;q0</title>\n<path fill=\"none\" stroke=\"black\" d=\"M3.78,-232.5C7.28,-232.5 19.64,-232.5 31.78,-232.5\"/>\n<polygon fill=\"black\" stroke=\"black\" points=\"31.96,-235.47 40.46,-232.5 31.96,-229.52 31.96,-235.47\"/>\n</g>\n<!-- dead -->\n<g id=\"node2\" class=\"node\">\n<title>dead</title>\n<ellipse fill=\"none\" stroke=\"black\" cx=\"268.89\" cy=\"-224.5\" rx=\"27.1\" ry=\"27.1\"/>\n<text text-anchor=\"middle\" x=\"268.89\" y=\"-220.8\" font-family=\"Times,serif\" font-size=\"14.00\">dead</text>\n</g>\n<!-- dead&#45;&gt;dead -->\n<g id=\"edge18\" class=\"edge\">\n<title>dead&#45;&gt;dead</title>\n<path fill=\"none\" stroke=\"black\" d=\"M265.99,-251.92C265.92,-261.77 266.89,-269.8 268.89,-269.8 270.26,-269.8 271.15,-266 271.55,-260.43\"/>\n<polygon fill=\"black\" stroke=\"black\" points=\"274.52,-260.5 271.79,-251.92 268.58,-260.33 274.52,-260.5\"/>\n<text text-anchor=\"middle\" x=\"268.89\" y=\"-273.6\" font-family=\"Times,serif\" font-size=\"14.00\"> letter </text>\n</g>\n<!-- dead&#45;&gt;dead -->\n<g id=\"edge19\" class=\"edge\">\n<title>dead&#45;&gt;dead</title>\n<path fill=\"none\" stroke=\"black\" d=\"M263.62,-251.49C262.08,-269.84 263.83,-287.8 268.89,-287.8 273.16,-287.8 275.07,-275.01 274.64,-260\"/>\n<polygon fill=\"black\" stroke=\"black\" points=\"277.61,-259.81 274.16,-251.49 271.67,-260.15 277.61,-259.81\"/>\n<text text-anchor=\"middle\" x=\"268.89\" y=\"-291.6\" font-family=\"Times,serif\" font-size=\"14.00\"> s </text>\n</g>\n<!-- dead&#45;&gt;dead -->\n<g id=\"edge20\" class=\"edge\">\n<title>dead&#45;&gt;dead</title>\n<path fill=\"none\" stroke=\"black\" d=\"M261.96,-251.14C258.13,-277.18 260.44,-305.8 268.89,-305.8 276.41,-305.8 279.07,-283.1 276.85,-259.74\"/>\n<polygon fill=\"black\" stroke=\"black\" points=\"279.79,-259.23 275.82,-251.14 273.88,-259.94 279.79,-259.23\"/>\n<text text-anchor=\"middle\" x=\"268.89\" y=\"-309.6\" font-family=\"Times,serif\" font-size=\"14.00\"> e </text>\n</g>\n<!-- dead&#45;&gt;dead -->\n<g id=\"edge21\" class=\"edge\">\n<title>dead&#45;&gt;dead</title>\n<path fill=\"none\" stroke=\"black\" d=\"M260.79,-250.69C254.17,-284 256.87,-323.8 268.89,-323.8 279.88,-323.8 283.08,-290.54 278.49,-259.39\"/>\n<polygon fill=\"black\" stroke=\"black\" points=\"281.36,-258.56 276.99,-250.69 275.5,-259.57 281.36,-258.56\"/>\n<text text-anchor=\"middle\" x=\"268.89\" y=\"-327.6\" font-family=\"Times,serif\" font-size=\"14.00\"> y </text>\n</g>\n<!-- q0&#45;&gt;dead -->\n<g id=\"edge4\" class=\"edge\">\n<title>q0&#45;&gt;dead</title>\n<path fill=\"none\" stroke=\"black\" d=\"M75.16,-245.11C104.06,-269.45 171.79,-318.12 223.59,-290.5 236.9,-283.4 246.92,-270.33 254.04,-257.68\"/>\n<polygon fill=\"black\" stroke=\"black\" points=\"256.79,-258.83 258.09,-249.92 251.52,-256.08 256.79,-258.83\"/>\n<text text-anchor=\"middle\" x=\"150.09\" y=\"-299.3\" font-family=\"Times,serif\" font-size=\"14.00\"> e </text>\n</g>\n<!-- q0&#45;&gt;q0 -->\n<g id=\"edge2\" class=\"edge\">\n<title>q0&#45;&gt;q0</title>\n<path fill=\"none\" stroke=\"black\" d=\"M53.63,-251.02C52.53,-260.95 54.68,-270 60.1,-270 63.82,-270 66,-265.72 66.65,-259.82\"/>\n<polygon fill=\"black\" stroke=\"black\" points=\"69.62,-259.49 66.57,-251.02 63.67,-259.55 69.62,-259.49\"/>\n<text text-anchor=\"middle\" x=\"60.1\" y=\"-273.8\" font-family=\"Times,serif\" font-size=\"14.00\"> letter </text>\n</g>\n<!-- q1 -->\n<g id=\"node4\" class=\"node\">\n<title>q1</title>\n<ellipse fill=\"none\" stroke=\"black\" cx=\"150.09\" cy=\"-232.5\" rx=\"19.5\" ry=\"19.5\"/>\n<text text-anchor=\"middle\" x=\"150.09\" y=\"-228.8\" font-family=\"Times,serif\" font-size=\"14.00\">q1</text>\n</g>\n<!-- q0&#45;&gt;q1 -->\n<g id=\"edge3\" class=\"edge\">\n<title>q0&#45;&gt;q1</title>\n<path fill=\"none\" stroke=\"black\" d=\"M79.76,-232.5C92.01,-232.5 108.23,-232.5 121.91,-232.5\"/>\n<polygon fill=\"black\" stroke=\"black\" points=\"121.96,-235.47 130.46,-232.5 121.96,-229.52 121.96,-235.47\"/>\n<text text-anchor=\"middle\" x=\"105.1\" y=\"-236.3\" font-family=\"Times,serif\" font-size=\"14.00\"> s </text>\n</g>\n<!-- q2 -->\n<g id=\"node5\" class=\"node\">\n<title>q2</title>\n<ellipse fill=\"none\" stroke=\"black\" cx=\"150.09\" cy=\"-99.5\" rx=\"19.5\" ry=\"19.5\"/>\n<text text-anchor=\"middle\" x=\"150.09\" y=\"-95.8\" font-family=\"Times,serif\" font-size=\"14.00\">q2</text>\n</g>\n<!-- q0&#45;&gt;q2 -->\n<g id=\"edge5\" class=\"edge\">\n<title>q0&#45;&gt;q2</title>\n<path fill=\"none\" stroke=\"black\" d=\"M71.71,-216.46C87.17,-193.09 115.97,-149.56 133.74,-122.7\"/>\n<polygon fill=\"black\" stroke=\"black\" points=\"136.23,-124.33 138.44,-115.6 131.27,-121.05 136.23,-124.33\"/>\n<text text-anchor=\"middle\" x=\"105.1\" y=\"-178.3\" font-family=\"Times,serif\" font-size=\"14.00\"> y </text>\n</g>\n<!-- q1&#45;&gt;dead -->\n<g id=\"edge6\" class=\"edge\">\n<title>q1&#45;&gt;dead</title>\n<path fill=\"none\" stroke=\"black\" d=\"M162.46,-247.94C168.9,-255.37 177.66,-263.5 187.59,-267.5 202.44,-273.47 208.77,-273.51 223.59,-267.5 231.79,-264.18 239.3,-258.53 245.72,-252.4\"/>\n<polygon fill=\"black\" stroke=\"black\" points=\"247.97,-254.35 251.76,-246.18 243.71,-250.21 247.97,-254.35\"/>\n<text text-anchor=\"middle\" x=\"205.59\" y=\"-275.3\" font-family=\"Times,serif\" font-size=\"14.00\"> letter </text>\n</g>\n<!-- q1&#45;&gt;dead -->\n<g id=\"edge7\" class=\"edge\">\n<title>q1&#45;&gt;dead</title>\n<path fill=\"none\" stroke=\"black\" d=\"M169.59,-232.09C184.25,-231.69 205.26,-230.91 223.59,-229.5 226.71,-229.26 229.94,-228.97 233.18,-228.65\"/>\n<polygon fill=\"black\" stroke=\"black\" points=\"233.54,-231.61 241.69,-227.77 232.92,-225.69 233.54,-231.61\"/>\n<text text-anchor=\"middle\" x=\"205.59\" y=\"-234.3\" font-family=\"Times,serif\" font-size=\"14.00\"> s </text>\n</g>\n<!-- q1&#45;&gt;dead -->\n<g id=\"edge9\" class=\"edge\">\n<title>q1&#45;&gt;dead</title>\n<path fill=\"none\" stroke=\"black\" d=\"M166.22,-220.85C172.48,-216.73 180.04,-212.6 187.59,-210.5 202.98,-206.22 220.4,-208.43 235.08,-212.25\"/>\n<polygon fill=\"black\" stroke=\"black\" points=\"234.38,-215.14 243.37,-214.64 236.03,-209.42 234.38,-215.14\"/>\n<text text-anchor=\"middle\" x=\"205.59\" y=\"-214.3\" font-family=\"Times,serif\" font-size=\"14.00\"> y </text>\n</g>\n<!-- q3 -->\n<g id=\"node6\" class=\"node\">\n<title>q3</title>\n<ellipse fill=\"none\" stroke=\"black\" cx=\"268.89\" cy=\"-23.5\" rx=\"19.5\" ry=\"19.5\"/>\n<ellipse fill=\"none\" stroke=\"black\" cx=\"268.89\" cy=\"-23.5\" rx=\"23.5\" ry=\"23.5\"/>\n<text text-anchor=\"middle\" x=\"268.89\" y=\"-19.8\" font-family=\"Times,serif\" font-size=\"14.00\">q3</text>\n</g>\n<!-- q1&#45;&gt;q3 -->\n<g id=\"edge8\" class=\"edge\">\n<title>q1&#45;&gt;q3</title>\n<path fill=\"none\" stroke=\"black\" d=\"M162.88,-217.5C169.85,-208.83 178.97,-197.83 187.59,-188.5 202.74,-172.11 211.66,-172.36 223.59,-153.5 243.03,-122.77 255.03,-82.52 261.55,-55\"/>\n<polygon fill=\"black\" stroke=\"black\" points=\"264.49,-55.48 263.48,-46.54 258.69,-54.16 264.49,-55.48\"/>\n<text text-anchor=\"middle\" x=\"205.59\" y=\"-192.3\" font-family=\"Times,serif\" font-size=\"14.00\"> e </text>\n</g>\n<!-- q2&#45;&gt;dead -->\n<g id=\"edge10\" class=\"edge\">\n<title>q2&#45;&gt;dead</title>\n<path fill=\"none\" stroke=\"black\" d=\"M168.45,-107.09C187.3,-115.63 215.77,-129.48 223.59,-138.5 238.8,-156.02 230.78,-166.97 241.59,-187.5 243.08,-190.31 244.75,-193.16 246.51,-195.96\"/>\n<polygon fill=\"black\" stroke=\"black\" points=\"244.13,-197.77 251.31,-203.2 249.09,-194.48 244.13,-197.77\"/>\n<text text-anchor=\"middle\" x=\"205.59\" y=\"-142.3\" font-family=\"Times,serif\" font-size=\"14.00\"> letter </text>\n</g>\n<!-- q2&#45;&gt;dead -->\n<g id=\"edge12\" class=\"edge\">\n<title>q2&#45;&gt;dead</title>\n<path fill=\"none\" stroke=\"black\" d=\"M168.68,-93.47C184.8,-89.16 208.39,-86.07 223.59,-98.5 254.83,-124.05 225.55,-150.47 241.59,-187.5 242.93,-190.58 244.55,-193.67 246.32,-196.66\"/>\n<polygon fill=\"black\" stroke=\"black\" points=\"243.87,-198.35 250.97,-203.89 248.88,-195.13 243.87,-198.35\"/>\n<text text-anchor=\"middle\" x=\"205.59\" y=\"-102.3\" font-family=\"Times,serif\" font-size=\"14.00\"> e </text>\n</g>\n<!-- q2&#45;&gt;dead -->\n<g id=\"edge13\" class=\"edge\">\n<title>q2&#45;&gt;dead</title>\n<path fill=\"none\" stroke=\"black\" d=\"M164.8,-86.62C180.54,-73.42 206.38,-56.75 223.59,-71.5 263.21,-105.44 221.95,-139.16 241.59,-187.5 242.86,-190.61 244.43,-193.72 246.18,-196.73\"/>\n<polygon fill=\"black\" stroke=\"black\" points=\"243.71,-198.4 250.79,-203.97 248.73,-195.2 243.71,-198.4\"/>\n<text text-anchor=\"middle\" x=\"205.59\" y=\"-75.3\" font-family=\"Times,serif\" font-size=\"14.00\"> y </text>\n</g>\n<!-- q2&#45;&gt;q3 -->\n<g id=\"edge11\" class=\"edge\">\n<title>q2&#45;&gt;q3</title>\n<path fill=\"none\" stroke=\"black\" d=\"M154.55,-80.33C158.9,-62.45 168.27,-36.75 187.59,-24.5 202.2,-15.24 221.5,-14.72 237.52,-16.64\"/>\n<polygon fill=\"black\" stroke=\"black\" points=\"237.18,-19.6 246.03,-17.92 238.07,-13.71 237.18,-19.6\"/>\n<text text-anchor=\"middle\" x=\"205.59\" y=\"-28.3\" font-family=\"Times,serif\" font-size=\"14.00\"> s </text>\n</g>\n<!-- q3&#45;&gt;q3 -->\n<g id=\"edge14\" class=\"edge\">\n<title>q3&#45;&gt;q3</title>\n<path fill=\"none\" stroke=\"black\" d=\"M266.01,-46.96C265.81,-56.72 266.77,-65 268.89,-65 270.35,-65 271.26,-61.09 271.62,-55.47\"/>\n<polygon fill=\"black\" stroke=\"black\" points=\"274.59,-55.51 271.77,-46.96 268.64,-55.41 274.59,-55.51\"/>\n<text text-anchor=\"middle\" x=\"268.89\" y=\"-68.8\" font-family=\"Times,serif\" font-size=\"14.00\"> letter </text>\n</g>\n<!-- q3&#45;&gt;q3 -->\n<g id=\"edge15\" class=\"edge\">\n<title>q3&#45;&gt;q3</title>\n<path fill=\"none\" stroke=\"black\" d=\"M263.83,-46.71C261.94,-64.67 263.62,-83 268.89,-83 273.29,-83 275.2,-70.19 274.6,-55.49\"/>\n<polygon fill=\"black\" stroke=\"black\" points=\"277.54,-54.97 273.95,-46.71 271.61,-55.4 277.54,-54.97\"/>\n<text text-anchor=\"middle\" x=\"268.89\" y=\"-86.8\" font-family=\"Times,serif\" font-size=\"14.00\"> s </text>\n</g>\n<!-- q3&#45;&gt;q3 -->\n<g id=\"edge16\" class=\"edge\">\n<title>q3&#45;&gt;q3</title>\n<path fill=\"none\" stroke=\"black\" d=\"M262.42,-46.11C257.97,-71.63 260.13,-101 268.89,-101 276.7,-101 279.26,-77.7 276.58,-54.58\"/>\n<polygon fill=\"black\" stroke=\"black\" points=\"279.52,-54.1 275.36,-46.11 273.63,-54.95 279.52,-54.1\"/>\n<text text-anchor=\"middle\" x=\"268.89\" y=\"-104.8\" font-family=\"Times,serif\" font-size=\"14.00\"> e </text>\n</g>\n<!-- q3&#45;&gt;q3 -->\n<g id=\"edge17\" class=\"edge\">\n<title>q3&#45;&gt;q3</title>\n<path fill=\"none\" stroke=\"black\" d=\"M261.36,-46.04C254.03,-78.57 256.54,-119 268.89,-119 280.18,-119 283.25,-85.22 278.09,-54.57\"/>\n<polygon fill=\"black\" stroke=\"black\" points=\"280.97,-53.81 276.42,-46.04 275.13,-54.95 280.97,-53.81\"/>\n<text text-anchor=\"middle\" x=\"268.89\" y=\"-122.8\" font-family=\"Times,serif\" font-size=\"14.00\"> y </text>\n</g>\n</g>\n</svg>\n",
            "text/plain": [
              "<graphviz.graphs.Digraph at 0x7fcca22e08d0>"
            ]
          },
          "metadata": {},
          "execution_count": 8
        }
      ]
    }
  ]
}